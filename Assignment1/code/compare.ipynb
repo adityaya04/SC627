{
 "cells": [
  {
   "cell_type": "code",
   "execution_count": 1,
   "metadata": {},
   "outputs": [],
   "source": [
    "import os\n",
    "import numpy as np\n",
    "import subprocess\n",
    "import time\n",
    "import matplotlib.pyplot as plt \n",
    "plt.style.use('seaborn-darkgrid')\n",
    "\n",
    "configs = None\n",
    "with open('positions.txt','r') as file:\n",
    "    configs = file.readlines()\n",
    "\n",
    "for i in range(len(configs)) :\n",
    "    configs[i] = configs[i].strip()\n",
    "    configs[i] = configs[i][:-1]\n",
    "\n",
    "CONFIGS = []\n",
    "for i in range(len(configs)//2) :\n",
    "    CONFIGS.append(configs[i] + ' ' + configs[2*i + 1])"
   ]
  },
  {
   "cell_type": "code",
   "execution_count": 2,
   "metadata": {},
   "outputs": [],
   "source": [
    "nDOFs = 3\n",
    "def generate_cmds(cfgs, method):\n",
    "    cmds = []\n",
    "    for i in cfgs :\n",
    "        c = f'./planner.out map2.txt {nDOFs} {i} {method} myOutput.txt'\n",
    "        cmds.append(c)\n",
    "    return cmds\n",
    "\n",
    "cmds_rrt = generate_cmds(CONFIGS, 0)\n",
    "cmds_rrtstar = generate_cmds(CONFIGS, 1)\n",
    "cmds_prm = generate_cmds(CONFIGS, 2)\n",
    "with open('commandsrrt.txt','w') as file:\n",
    "    \n",
    "\n",
    "# print(cmds_rrt[1])\n",
    "    for i in cmds_rrt :\n",
    "        file.write(i)\n",
    "        file.write('\\n')\n",
    "file.close()\n",
    "\n",
    "with open('commandsrrtstar.txt','w') as file:\n",
    "    \n",
    "\n",
    "# print(cmds_rrt[1])\n",
    "    for i in cmds_rrtstar :\n",
    "        file.write(i)\n",
    "        file.write('\\n')\n",
    "file.close()\n",
    "\n",
    "with open('commandsprm.txt','w') as file:\n",
    "    \n",
    "\n",
    "# print(cmds_rrt[1])\n",
    "    for i in cmds_prm :\n",
    "        file.write(i)\n",
    "        file.write('\\n')\n",
    "file.close()\n",
    "        # print(i)\n",
    "        # outrrt = subprocess.run(i, shell=True, capture_output=True)\n",
    "        # print(outrrt.stdout.decode('utf-8'))\n",
    "        # print(outrrt.stderr.decode('utf-8'))"
   ]
  }
 ],
 "metadata": {
  "kernelspec": {
   "display_name": "Python 3",
   "language": "python",
   "name": "python3"
  },
  "language_info": {
   "codemirror_mode": {
    "name": "ipython",
    "version": 3
   },
   "file_extension": ".py",
   "mimetype": "text/x-python",
   "name": "python",
   "nbconvert_exporter": "python",
   "pygments_lexer": "ipython3",
   "version": "3.8.10"
  }
 },
 "nbformat": 4,
 "nbformat_minor": 2
}
