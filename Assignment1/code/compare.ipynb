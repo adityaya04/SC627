{
 "cells": [
  {
   "cell_type": "code",
   "execution_count": 14,
   "metadata": {},
   "outputs": [],
   "source": [
    "import os\n",
    "import numpy as np\n",
    "import subprocess\n",
    "import matplotlib.pyplot as plt \n",
    "plt.style.use('seaborn-darkgrid')"
   ]
  },
  {
   "cell_type": "code",
   "execution_count": null,
   "metadata": {},
   "outputs": [],
   "source": [
    "def generate_config():\n",
    "    "
   ]
  },
  {
   "cell_type": "code",
   "execution_count": 12,
   "metadata": {},
   "outputs": [],
   "source": [
    "cmdrrt = './planner.out map1.txt 5 1.57,0.78,1.57,0.78,1.57 0.392,2.35,3.14,2.82,4.71 0 myOutput.txt'\n",
    "cmdrrtstar = './planner.out map1.txt 5 1.57,0.78,1.57,0.78,1.57 0.392,2.35,3.14,2.82,4.71 1 myOutput.txt'\n",
    "cmdprm = './planner.out map1.txt 5 1.57,0.78,1.57,0.78,1.57 0.392,2.35,3.14,2.82,4.71 2 myOutput.txt'\n",
    "\n",
    "outrrt = subprocess.run(cmdrrt, shell=True, capture_output=True)\n",
    "outrrtstar = subprocess.run(cmdrrtstar, shell=True, capture_output=True)\n",
    "outprm = subprocess.run(cmdprm, shell=True, capture_output=True)"
   ]
  },
  {
   "cell_type": "code",
   "execution_count": 13,
   "metadata": {},
   "outputs": [
    {
     "name": "stdout",
     "output_type": "stream",
     "text": [
      "Path found: 0 1 2 5 13 30 97 105 1001 \n",
      "Cost of RRT : 8.61142\n",
      "\n",
      "Path found: 0 1 8 243 468 450 613 929 895 1001 \n",
      "Cost of RRT* : 8.71568\n",
      "\n",
      "Path found: 0 127 1 \n",
      "Cost of PRM : 7.35464\n",
      "Done\n",
      "\n"
     ]
    }
   ],
   "source": [
    "print(outrrt.stdout.decode('utf-8'))\n",
    "print(outrrtstar.stdout.decode('utf-8'))\n",
    "print(outprm.stdout.decode('utf-8'))"
   ]
  }
 ],
 "metadata": {
  "kernelspec": {
   "display_name": "Python 3",
   "language": "python",
   "name": "python3"
  },
  "language_info": {
   "codemirror_mode": {
    "name": "ipython",
    "version": 3
   },
   "file_extension": ".py",
   "mimetype": "text/x-python",
   "name": "python",
   "nbconvert_exporter": "python",
   "pygments_lexer": "ipython3",
   "version": "3.8.10"
  }
 },
 "nbformat": 4,
 "nbformat_minor": 2
}
